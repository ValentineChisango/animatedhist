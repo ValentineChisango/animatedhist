{
 "cells": [
  {
   "cell_type": "code",
   "execution_count": null,
   "metadata": {},
   "outputs": [],
   "source": [
    "#importing necessary packages\n",
    "import pandas as pd\n",
    "import numpy as np\n",
    "import matplotlib.pyplot as plt\n",
    "import matplotlib.animation as ani\n",
    "from matplotlib.animation import ImageMagickWriter "
   ]
  },
  {
   "cell_type": "code",
   "execution_count": null,
   "metadata": {},
   "outputs": [],
   "source": [
    "%matplotlib widget\n",
    "#reading the data\n",
    "initial_all_res = pd.read_csv('HEART.csv', index_col=None)\n",
    "\n",
    "#calculate the average number of attempts required per game based on the simulations, excluding simulations that resulted in a loss (-1) or error (0)\n",
    "initial_avg = ((initial_all_res.replace(0, np.nan)).replace(-1, np.nan)).mean()\n",
    "\n",
    "#defining the number of game; the number of steps in the animation\n",
    "total_games = 300\n",
    "\n",
    "#function responsible for updating the histogram by adding the attempts take for each game one by one\n",
    "def update_hist(games):\n",
    "    if games == total_games:\n",
    "        animation.event_source.stop()\n",
    "    bins = np.arange(1,8,1)\n",
    "    plt.cla()\n",
    "    plt.hist(initial_avg[:games], bins = bins, color='red', edgecolor = 'black')\n",
    "    plt.axis([1,7,0,300])\n",
    "    plt.gca().set_title('Guess distribution for HEART as initial guess')\n",
    "    plt.gca().set_xlabel('Number of attempts need to correctly guess the word')\n",
    "    plt.gca().set_ylabel('Frequency')\n",
    "    plt.gca().annotate('Games={}'.format(games), [5, 275])\n",
    "    for rect in plt.gca().patches:\n",
    "        ypos = rect.get_height()\n",
    "        xpos = rect.get_x()\n",
    "        if(ypos == 0 ):\n",
    "            continue\n",
    "        else:\n",
    "            plt.text(rect.get_x() + rect.get_width() / 2, ypos+0.01, \"{}\".format(int(ypos)), ha='center', va='bottom')\n",
    "\n",
    "#creating the figure to use for the histogram plot  \n",
    "fig = plt.figure()\n",
    "\n",
    "#creating the animation for the histogram\n",
    "animation = ani.FuncAnimation(fig=fig, func=update_hist, interval = 50, blit=True, save_count = 301)\n",
    "\n",
    "#saving the animated histogram as a gif that loops 1 time only\n",
    "animation.save('HEART.gif', writer=ImageMagickWriter(fps=30, extra_args=['-loop', '1']))\n",
    "\n",
    "#saving the animated histogram as a gif that loops infinitely\n",
    "animation.save('HEART_.gif', writer=ImageMagickWriter(fps=30, extra_args=['-loop', '0']))\n",
    "\n",
    "#saving the histogram as an image\n",
    "plt.savefig('HEART_.png')\n",
    "\n",
    "#displaying the plot\n",
    "plt.show()"
   ]
  }
 ],
 "metadata": {
  "interpreter": {
   "hash": "48adc846f1c9f501752af9b5816818fe8aada53827821b8ed8bbda2492a7d343"
  },
  "kernelspec": {
   "display_name": "Python 3.9.7 ('base')",
   "language": "python",
   "name": "python3"
  },
  "language_info": {
   "codemirror_mode": {
    "name": "ipython",
    "version": 3
   },
   "file_extension": ".py",
   "mimetype": "text/x-python",
   "name": "python",
   "nbconvert_exporter": "python",
   "pygments_lexer": "ipython3",
   "version": "3.9.7"
  },
  "orig_nbformat": 4
 },
 "nbformat": 4,
 "nbformat_minor": 2
}
